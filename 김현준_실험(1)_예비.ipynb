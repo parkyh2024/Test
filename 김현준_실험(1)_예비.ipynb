{
  "nbformat": 4,
  "nbformat_minor": 0,
  "metadata": {
    "colab": {
      "provenance": []
    },
    "kernelspec": {
      "name": "python3",
      "display_name": "Python 3"
    },
    "language_info": {
      "name": "python"
    }
  },
  "cells": [
    {
      "cell_type": "code",
      "execution_count": 1,
      "metadata": {
        "colab": {
          "base_uri": "https://localhost:8080/",
          "height": 137
        },
        "id": "ck_CnFG3nY7H",
        "outputId": "303e91ac-3d6d-4bb9-a965-4aa714c86a55"
      },
      "outputs": [
        {
          "output_type": "error",
          "ename": "SyntaxError",
          "evalue": "ignored",
          "traceback": [
            "\u001b[0;36m  File \u001b[0;32m\"<ipython-input-1-d4887bb017b4>\"\u001b[0;36m, line \u001b[0;32m1\u001b[0m\n\u001b[0;31m    선택된 셀을 실행 : Ctrl+Enter\u001b[0m\n\u001b[0m        ^\u001b[0m\n\u001b[0;31mSyntaxError\u001b[0m\u001b[0;31m:\u001b[0m invalid syntax\n"
          ]
        }
      ],
      "source": [
        "선택된 셀을 실행 : Ctrl+Enter\n",
        "실행 후 다음셀로 이동 Shift +Enter\n",
        "실행 후 다음 셀 추가 Alt + Enter\n",
        "저장 Ctrl + S\n",
        "엔터키는 편집모드 ,ESC는 선택모드\n",
        "마크 다운으로 전환 Ctrl + M M\n",
        "코드로 전환 Ctrl + M Y\n",
        "코드셀에 줄번호 부여 Ctrl + M L \n",
        "바로 윗줄에 셀 생성 Ctrl + M A\n",
        "타이틀의 크기를 조정하기 위해서는 #개수가 늘어 날 수록 크기가 작아짐\n",
        "강조를 하기 위해서는 **진하게**\n",
        "__밑줄__, ~~취소~~, _이탤릭_ 과 같이 할 수 있음\n",
        "문장 줄바꿈을 하고 싶다면 스페이스바 두번을 뒤에 붙이면 된다\n",
        "블럭 들여쓰기는 > 블럭 1단계 >>블럭 2단계\n",
        "목록은 *, +, - 숫자 등 이용해서 만들 수 있고 탭을 쓰면 비어있는 동그라미가\n",
        "생성 된다.\n",
        "코드 블록은 ```~~~```을 사용한다.\n",
        "하이퍼링크 [표시하고 싶은 내용] (링크) <링크주소를 보여주면서 하이퍼링크>\n",
        "수평선은 ***, ----을 사용한다\n",
        "표는 https://www.tablesgenerator.com/markdown_tables 에서 따와서 활용\n",
        "그림 ![이미지 설명문구] (링크)\n",
        "체크박스는 *[] 를 사용한다.\n",
        "수식은 $$ ~~ $$ 를 사용한다. Latex 수식을 사용한다.\n",
        "$~~$는 문장 사이에 들어 간다.\n"
      ]
    }
  ]
}