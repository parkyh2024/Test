{
  "nbformat": 4,
  "nbformat_minor": 0,
  "metadata": {
    "colab": {
      "provenance": []
    },
    "kernelspec": {
      "name": "python3",
      "display_name": "Python 3"
    },
    "language_info": {
      "name": "python"
    }
  },
  "cells": [
    {
      "cell_type": "code",
      "execution_count": null,
      "metadata": {
        "id": "O_fB4Cq7cqgk"
      },
      "outputs": [],
      "source": []
    },
    {
      "cell_type": "markdown",
      "source": [
        "# 2021732037 최은서 1주차 예비레포트\n",
        "---\n",
        "## (1) 머신러닝이란?\n",
        "[[출처1](https://www.appier.com/ko-kr/blog/what-is-supervised-learning),[출처 2](https://opentutorials.org/module/4916/28938), [출처 3](https://ebbnflow.tistory.com/165)]  \n",
        "<img src = \"https://drive.google.com/uc?id=1F8-wmNuTJGDVFiqy-wffW9npXNurmo0v\" height = 400 width = 500> 그림1. 머신러닝 구조  \n",
        "* 머신러닝은 크게 지도학습, 비지도학습, 강화학습 이렇게 세가지로 나뉜다. \n",
        "\n",
        "* 지도학습(Supervised Learning)은 문제와 정답을 모두 알려주고 공부시키는 방법이며, 예측 분류 기법이 쓰인다. 사전에 정답을 아는 data를 이용해 학습한다. 보통 사람인 관여자가 답을 알고 있는 상태에서 AI를 훈련하고자 할 때 사용한다.\n",
        "  * 비지도 학습보다 더 단순하고 일반적이다\n",
        "  * 사람인 관여자가 답을 알고 있는 상태에서 AI를 훈련하고자 할 때 사용한다.  \n",
        "  * 사용하여 데이터를 분류하고 처리한다  \n",
        "  * 레이블이 지정된 데이터 즉, 분류된 데이터를 사용한다\n",
        "\n",
        "* 비지도학습(Unsupervised Learning)은 답을 가르쳐주지 않고 공부시키는 방법이며, 연관규칙, 군집 기법이 쓰인다. 비지도학습의 대표적인 종류는 클러스터링이 있다. 이 외에도 Dimentionally Reduction, Hidden Markow Model이 있다.  \n",
        "\n",
        "* 지도/비지도 학습 모델(Semi-Supervised Learning)을 섞어서 사용할 수도 있다. 소량의 분류된 데이터를 사용해 분류되지 않은 더 큰 데이터 세트를 보강하는 방법으로 활용할 수 있다.  \n",
        "\n",
        "* 강화학습(Reinforcement Learning)은 보상을 통해 상은 최대화, 벌은 최소화하는 방향으로 행위를 강화하는 학습이며, 보상 기법이 쓰인다.  \n",
        "1QP3I9iJ4XwOMpIJqZGrW9-QH-_vqbkni\n",
        "<img src = \"https://drive.google.com/uc?id=1QP3I9iJ4XwOMpIJqZGrW9-QH-_vqbkni\" height = 300 width = 600>\n",
        "\n",
        "\n",
        "---\n",
        "### (2) Google Colab  \n",
        "[[출처4](https://hongong.hanbit.co.kr/%EA%B5%AC%EA%B8%80-%EC%BD%94%EB%9E%A9-google-colab%EC%9C%BC%EB%A1%9C-%EB%A8%B8%EC%8B%A0%EB%9F%AC%EB%8B%9D-%ED%94%84%EB%A1%9C%EA%B7%B8%EB%9E%A8-%EB%8F%8C%EB%A6%AC%EA%B8%B0/)]  \n",
        "\n",
        "* 코랩은 웹 브라우저에서 텍스트와 프로그램 코드를 자유롭게 작성할 수 있는 온라인 에디터이다. 웹 브라우저 내에서 다양한 머신러닝 기법을 프로그래밍하고 그 결과까지 확인해볼 수 있다. 크게 텍스트 셀, 코드 셀, 노트북으로 나뉜다. 특히 GPU를 지원하여 제한된 범위 내에서 개인용 PC보다 빠른 성능을 보여주기도 한다. 다음과 같이 구글 드라이브 계정과 연결하여 사용하면 더욱 편리하다.\n",
        "---\n",
        "### (3)\tJupyter Notebook (Markdown)\n",
        "[[출처 5](https://jupyter.org/)  ]\n",
        "\n",
        "* jupyterLab은 노트북, 코드 및 데이터를 위한 최신 웹 기반 대화형 개발 환경이다. 유연한 인터페이스를 통해 사용자는 데이터 과학,과학 컴퓨팅, 전산 저널리즘 및 기계 학습의 워크플로우를 구성하고 조정할 수 있다. 소스코드는 해당 프로그래밍 언어 문법을 따르고,텍스트는 Markdown이라는 문법을 따른다. "
      ],
      "metadata": {
        "id": "W9LRaAezmWP8"
      }
    }
  ]
}