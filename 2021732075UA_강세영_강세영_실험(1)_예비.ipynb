{
  "nbformat": 4,
  "nbformat_minor": 0,
  "metadata": {
    "colab": {
      "provenance": []
    },
    "kernelspec": {
      "name": "python3",
      "display_name": "Python 3"
    },
    "language_info": {
      "name": "python"
    }
  },
  "cells": [
    {
      "cell_type": "markdown",
      "source": [
        "# **실험 1 예비레포트**\n",
        "\n",
        "---\n",
        "(1) 강의 영상을 시청하고, 강의 Notebook을 확인한다.\n",
        "\n",
        "(2) 머신러닝의 간략한 개념을 이해한 후, 본인의 방식대로 A4 1~2 page 정도의 ipynb문서로 재정리 해본다. \n",
        "\n",
        "\n",
        "---\n",
        "\n"
      ],
      "metadata": {
        "id": "qWzpe-FpfSVU"
      }
    },
    {
      "cell_type": "markdown",
      "source": [
        "# **강의영상 1 요약**\n",
        "\n",
        "\n",
        "---\n",
        "**I. 머신러닝**  \n",
        "머신 러닝은 AI가 인간의 학습방식을 따라하기 위한 데이터와 알고리즘의 사용에 초점을 맞추는 인공지능(AI) 및 컴퓨터 사이언스의 한 분야이다.\n",
        "1.   지도 학습 (supervised learning)\n",
        "  *   정답을 알고 있는 사람이 가르쳐준다.\n",
        "\n",
        "  *   **학습을 바탕으로 새로운 data에 대해 정답을 예측** : 학습이 끝난 뒤 스스로 생기는 원리가 생겨서 새로운 데이터가 생기면 생긴 원리를 통해 답 예측.\n",
        "\n",
        "\n",
        "2.   비지도 학습\n",
        "  *   방대한 데이터로 패턴, 원리, 추세, 경향 등을 파악하도록 학습시킴.\n",
        "\n",
        "\n",
        "3.   강화 학습 (지도학습에 포함시키도 함)\n",
        "  *  시켜보고 맞으면 보상, 틀리면 패널티. 둘 중 하나로 피드백 주는 방식\n",
        "\n",
        "  (딥러닝은 머신러닝과 마찬가리로 AI의 하위 개념이지만, 인공신경망에서 발전한 형태이다. 뇌의 뉴런과 유사한 정보 입출력 계층을 활용하여 알고리즘을 통해 데이터를 학습한다.)\n",
        "\n",
        "출처 : (https://www.ibm.com/kr-ko/cloud/learn/machine-learning)\n",
        "\n",
        "출처 : 코딩월드뉴스(https://www.codingworldnews.com)"
      ],
      "metadata": {
        "id": "iGfTe3SHgefI"
      }
    },
    {
      "cell_type": "markdown",
      "source": [
        "# **강의영상 2 요약**\n",
        "---\n",
        "**I.   구글 코랩(google colab) notebook 단축키**\n",
        "\n",
        "(추가 내용은 [강의 영상1](https://kwcommons.kw.ac.kr/em/6215cf047374b\n",
        ") 8분 00초 참조)\n",
        "\n",
        "1.   실행 후 다음 셀 실행 : Ctrl + Enter\n",
        "2.   실행 후 다음 셀로 이동: Shift+Enter\n",
        "3.   마크다운으로 전환: Ctrl+M M\n",
        "4.   코드로 전환: Ctrl+M Y\n",
        "5.   바로 윗줄에 셀 생성 : Ctrl + M A\n",
        "\n",
        "**II.   Mark down**\n",
        "\n",
        "\n",
        "(추가 내용은 [강의 영상2]( https://kwcommons.kw.ac.kr/em/6215cf3461d98)에서 확인 가능하며, 텍스트 상자를 더블 클릭 시 어떻게 사용했는지 확인 가능)\n",
        "\n",
        "\n",
        "1.   Mark down 이란?\n",
        "*   텍스트를 편집 시 사용\n",
        "*   확장자명 .md\n",
        "*   서식편집언어 >> coding으로 문서 \n",
        "*   notebook, blog, githyb, notion 등등에서 쓰인다 \n",
        "\n",
        "\n",
        "2.   각종 기능\n",
        "#타이틀\n",
        "*   강조와 줄바꿈\n",
        "\n",
        " <u>밑줄</u> \n",
        " / ~~취소선~~  \n",
        " _이탤릭_ / **굵게** (스페이스 두번)\n",
        "\n",
        "*  블럭(인용) 들여쓰기 \n",
        ">블럭 1단계 \n",
        ">>블럭 2단계\n",
        "\n",
        "*  표  \n",
        "\n",
        "| 1 | 2 | 3 |\n",
        "|:---|---:|:---:|\n",
        "|왼쪽 정렬하기|오른쪽 정렬하기|가운데 정렬하기|\n",
        "|a|b|c|\n",
        "\n",
        "* 수식과 체크박스\n",
        " * [ ] 중간에 수식 삽입 : 달러 두 개 사용\n",
        "$$\n",
        "\\begin{aligned}\n",
        "f(x)&=ax^2+bx+c\\\\\n",
        "\\end{aligned}\n",
        "$$\n",
        " * [x] 문장내 수식 $\\frac{1}{a^2}$ 삽입 : 달러 양쪽에 달기\n",
        "\n",
        "*  codeblock\n",
        "```python\n",
        "print(\"hello world\")\n"
      ],
      "metadata": {
        "id": "Z227rlqOgdIb"
      }
    }
  ]
}