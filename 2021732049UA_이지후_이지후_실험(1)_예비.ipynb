{
  "nbformat": 4,
  "nbformat_minor": 0,
  "metadata": {
    "colab": {
      "provenance": []
    },
    "kernelspec": {
      "name": "python3",
      "display_name": "Python 3"
    },
    "language_info": {
      "name": "python"
    },
    "accelerator": "GPU",
    "gpuClass": "standard"
  },
  "cells": [
    {
      "cell_type": "markdown",
      "source": [
        "#**전기공학머신러닝실습 1주차 예비보고서**  \n",
        "\n",
        "***\n",
        "\n",
        "##**1. 머신러닝**   \n",
        "\n",
        "---\n",
        "\n",
        "###**1.1. 머신러닝이란?**\n",
        "---\n",
        ">컴퓨터 프로그램이 수많은 데이터와 처리경험을 바탕으로 정보 처리 능력을 향상 및 수정 하는 것 또는 이에 관련된 연구 분야를 말하는 것이다.\n",
        "현재 인터넷 번역기, 알고리즘, 자율주행 자동차 등의 사용되는 현재 각광받고 있는 산업이다. 학습 형태에 따라서 머신러닝은 주로 지도 학습(supervised learning), 비지도 학습(unsupervised learning), 강화 학습(reinforcement learning)으로 구분한다.\n",
        "\n",
        "\n",
        "###**1.2. 머신러닝의 종류**\n",
        "---\n",
        ">위에서 말했듯이 머신러닝의 학습 방법은 지도 학습(supervised learning), 비지도 학습(unsupervised learning), 강화 학습(reinforcement learning)이 있다.\n",
        "\n",
        "####**1.2.1. 지도 학습(supervised learning)**\n",
        ">지도학습은 문제와 정답을 모두 제공하여서 학습시키는 방식이다. 사전에 정답을 아는 전문가(Supervised)의 지식(data)을 활용하여 학습시키는 방식이며. 이를 데이터로 생각하면 입력 값(X data)이 주어지면 입력값에 대한 Label(Y data)를 주어 학습시키는 방식이다. 예를 들어 개, 고양이, 모자의 다양한 사진을 학습시키고 구분할 수 있도록하면 새로운 개, 고양이 또는 모자 사진이 나오면 높은 확률로 올바르게 구분할 것이다. 그렇기 때문에 지도 학습은 예측과 분류에 장점이 있다. \n",
        "하지만 학습시킨 것이 아닌 새로운 무언가를 보여주었을 때 오류가 생길 수 있다는 단점이 있다.\n",
        "\n",
        "####**1.2.2. 비지도 학습(unsupervised learning)**\n",
        ">비지도 학습은 정답을 가르쳐 주지않고 공부시키는 방식이다. 지도 학습과는 다르게 정답라벨이 없는 데이터를 비슷한 특징으로 묶어 새로운 데이터에 대해서 예측하는 방법이다. 다양한 데이터로부터 패턴이나 형태를 찾아야 하기 때문에 지도학습에서 보다 난이도 있다. 비지도 학습에 대표적인 종류로는 클러스터링으로 클러스터링은 하나의 데이터를 여러 개의 부분집합으로 분할한 것을 의미하며 부분집합들의 유사도를 계산하는 것으로 학습시키는 방식이다.\n",
        "\n",
        "####**1.2.3. 강화학습(reinforcement learning)**\n",
        ">강화 학습은 지도학습과 비슷한 느낌이 있지만 다른 점은 보상이 있다는 것이다. 강화학습은 일을 수행시키고 그것에 대해 정답을 하면 보상을 주고 틀리면 보상의 반대인 패널티를 주어서 피드백시켜서 학습시키는 방식이다. \n",
        "\n",
        "\n",
        "\n",
        "\n",
        "\n"
      ],
      "metadata": {
        "id": "e-06BalYwqC3"
      }
    },
    {
      "cell_type": "markdown",
      "source": [
        "##**2. Google Colab**\n",
        "-----\n",
        "###**2.1. Google Colab이란?**\n",
        "-----\n",
        ">Google Colab은 클라우드 기반의 주피터 노트북 개발환경으로 드라이브, 도커, 리눅스, 클라우드, 기술로 이루어져 있으며 브라우저에서 python을 작성하고 실행할 수 있다. 특징으로는 브라우저에서 python을 실행해서 별도로 설치가 필요없으며 데이터를 분석하는 Tensor Flow, Keras, mataplotlib 등이 기본으로 설치되어 있고 GPU를 무료로 사용할 수 있다는 특징이 있다.\n",
        "\n",
        "###**2.2. Google Colab의 중요 단축키**\n",
        "-----\n",
        "> * 선택된 셀을 실행 : Ctrl + Enter   \n",
        "* 실행 후 다음 셀로 이동 : Shift + Enter\n",
        "* 저장 : Ctrl + S\n",
        "* Markdown으로 전환 : Ctrl + M M\n",
        "* Code로 전환 : Ctrl + M Y\n",
        "* 코드셀에 줄번호 부여 : Ctrl + M L\n",
        "* 바로 윗/아랫 줄에 셀 생성 : Ctrl + M A / M B\n"
      ],
      "metadata": {
        "id": "GRth4t54wfsh"
      }
    },
    {
      "cell_type": "markdown",
      "source": [
        "##**3. Markdown**\n",
        "----\n",
        "###**3.1. Markdown의 장단점**\n",
        "---\n",
        "####**3.1.1.장점**\n",
        ">* 별도의 도구 없이 사용가능하다.\n",
        "* C언어, python 등 여러 형태로 변환할 수 있다.\n",
        "* 텍스트 파일로 저장되어 용량이 적고 보관 관리에 용이하다.\n",
        "* 지원해주는 프로그램이 다양하다.\n",
        "\n",
        "####**3.1.2.단점**\n",
        "> * 표준이 될 만한 것이 없으며 그렇기 때문에 도구에 따라 결과가 달라질 수 있다.\n",
        "* 모든 HTML 마크업을 대신하지 못한다.\n",
        "\n",
        "###**3.2. Markdown의 사용법**\n",
        "----\n",
        ">Markdown을 사용함에 있어 좋은 점은 다양한 기능을 텍스트로 사용할 수 있다.\n",
        "* 타이틀\n",
        "* 강조\n",
        "* 들여쓰기\n",
        "* 줄바꿈\n",
        "* 그림 삽입\n",
        "* 수식 작성\n",
        "* 코드 블럭\n",
        "* 수평선\n",
        "* 하이퍼링크\n",
        "* 표 제작   \n",
        "\n",
        "위와 같은 내용을 기본적인 텍스트를 이용하여 사용 가능하기 때문에 간결하며 다른 프로그램이나 도구 없이 작성 가능하다.\n",
        "위의 사용 방식은 전기공학머신러닝실습 강의 노트의   \n",
        "\n",
        "<https://github.com/chorok-daddy/courses/blob/main/ML_Exp/EX1-2_Markdown_Tutorial.ipynb>   \n",
        "에서 확인 가능하다.\n",
        "\n"
      ],
      "metadata": {
        "id": "KCYF-myV0qqj"
      }
    },
    {
      "cell_type": "markdown",
      "source": [
        "#####**참고 문헌**\n",
        "---\n",
        "* <https://gist.github.com/ihoneymon/652be052a0727ad59601#28-%EC%9D%B4%EB%AF%B8%EC%A7%80>  \n",
        "* <https://ebbnflow.tistory.com/165>   \n",
        "* <https://ffoorreeuunn.tistory.com/244>   \n",
        "* <https://terms.naver.com/entry.naver?docId=3686146&cid=42346&categoryId=42346>"
      ],
      "metadata": {
        "id": "LByO6hxJAWqs"
      }
    }
  ]
}