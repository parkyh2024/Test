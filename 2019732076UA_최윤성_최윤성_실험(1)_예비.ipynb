{
  "nbformat": 4,
  "nbformat_minor": 0,
  "metadata": {
    "colab": {
      "provenance": []
    },
    "kernelspec": {
      "name": "python3",
      "display_name": "Python 3"
    },
    "language_info": {
      "name": "python"
    },
    "accelerator": "GPU",
    "gpuClass": "standard"
  },
  "cells": [
    {
      "cell_type": "markdown",
      "source": [
        "#**Machine Leaning**  \n",
        "####2019732076 최윤성\n",
        "---\n",
        "- 종류\n",
        "1. **지도학습**\n",
        "> 레이블된 데이터\n",
        "> 직접 피드백\n",
        "> 출력 및 미래 예측\n",
        "2. 비지도 학습\n",
        "> 레이블 및 타깃 없음\n",
        "> 피드백 없음\n",
        "> 데이터에서 숨겨진 구조 찾기\n",
        "3. 강화 학습\n",
        "> 결정 과정\n",
        "> 보상 시스템\n",
        "> 연속된 행동에서 학습\n"
      ],
      "metadata": {
        "id": "tDL6A0XEclQ3"
      }
    },
    {
      "cell_type": "markdown",
      "source": [
        "##**[Google Colab](https://colab.research.google.com/)**\n",
        "---\n",
        "###파이썬 코드를 사용할 수 있으며 MarkDown을 이용하여 텍스트를 넣을 수 있다.\n",
        "\n",
        "- 파이썬 코드 예시"
      ],
      "metadata": {
        "id": "xpYoKBxiuc3H"
      }
    },
    {
      "cell_type": "code",
      "source": [
        "print('Hello World!')"
      ],
      "metadata": {
        "colab": {
          "base_uri": "https://localhost:8080/"
        },
        "id": "On1Y2z_avhR6",
        "outputId": "4e09d598-5c03-42c6-fbef-c2bb21400a4e"
      },
      "execution_count": null,
      "outputs": [
        {
          "output_type": "stream",
          "name": "stdout",
          "text": [
            "Hello World\n"
          ]
        }
      ]
    },
    {
      "cell_type": "markdown",
      "source": [
        "####위와 같이 출력이 가능하다."
      ],
      "metadata": {
        "id": "aI6_cpJUv6IN"
      }
    },
    {
      "cell_type": "markdown",
      "source": [
        "##**Note Book 단축키**\n",
        "###편리하고 빠르게 코드를 입력할 때 사용\n",
        "- 선택된 셀 실행: Ctrl+Enter\n",
        "- 실행 후 다음 셀로 이동: Shift+Enter\n",
        "- 실행 후 다음 셀 추가: Alt+Enter\n",
        "- 저장: Ctrl+S\n",
        "- Enter: 편집모드\n",
        "- ESC: 선택모드\n",
        "- 마크다운으로 전환: Ctrl+M M\n",
        "- 코드로 전환: Ctrl+M Y\n",
        "- 코드셀에 줄번호 부여: Ctrl+M L\n",
        "- 바로 윗줄에 셀 생성: Ctrl + M L\n",
        "- 바로 아랫줄에 셀 생성: Ctrl + M A\n",
        "- 셀 삭제: Ctrl + M B\n",
        "- 실행 멈충: Ctrl + M I\n",
        "- 작업을 완전종료: Ctrl + M + ."
      ],
      "metadata": {
        "id": "GnacUpiYwOA0"
      }
    },
    {
      "cell_type": "markdown",
      "source": [
        "##**Markdown**\n",
        "- 파일 확장자가 `.md`로 된 파일\n",
        "- 서식 편집 언어 >> coding으로 문서 작성\n",
        "\n",
        "###- 마크다운의 장점\n",
        "1. 문법이 쉽다.\n",
        "2. 관리가 쉽다.\n",
        "3. 지원 가능한 플랫폼과 프로그램이 다양하다."
      ],
      "metadata": {
        "id": "asCrA1bwzg2e"
      }
    },
    {
      "cell_type": "markdown",
      "source": [
        "##**마크다운 문법(syntax)**\n",
        "###**- 타이틀**\n",
        "> 입력\n",
        "#### \\#1\n",
        "#### \\## 2\n",
        "#### \\### 3\n",
        "> 출력\n",
        "# 1\n",
        "## 2\n",
        "### 3"
      ],
      "metadata": {
        "id": "iVUM55OG3UAU"
      }
    },
    {
      "cell_type": "markdown",
      "source": [
        "###**- 강조**\n",
        "> 입력\n",
        "#### \\**진하게**\n",
        "#### \\<u>밑줄\\</u>\n",
        "#### \\~취소~\n",
        "#### \\_이태릭_\n",
        ">출력  \n",
        "\n",
        "**진하게**  \n",
        "<u>밑줄</u>  \n",
        "~취소~  \n",
        "_이태릭_\n"
      ],
      "metadata": {
        "id": "X2KyPq2k7cu1"
      }
    },
    {
      "cell_type": "markdown",
      "source": [
        "###**- 문장 줄바꿈**\n",
        "> 입력\n",
        "\n",
        "문장  \n",
        "줄바꿈  \n",
        "안함\n",
        "\n",
        "문장 (space 2개)  \n",
        "줄바꿈 (space 2개)  \n",
        "함\n",
        "> 출력  \n",
        "\n",
        "문장 줄바꿈 안함  \n",
        "문장  \n",
        "줄바꿈  \n",
        "함"
      ],
      "metadata": {
        "id": "7Fb7Qxrr-K4M"
      }
    },
    {
      "cell_type": "markdown",
      "source": [
        "###**- 블럭(인용) 들여쓰기**  \n",
        "> 입력  \n",
        "\n",
        "#### \\> 블럭 1단계\n",
        "#### \\>> 블럭 2단계  \n",
        "\n",
        "> 출력  \n",
        "\n",
        "> 블럭 1단계\n",
        ">> 블럭 2단계"
      ],
      "metadata": {
        "id": "KujlQNKJ_ZFp"
      }
    },
    {
      "cell_type": "markdown",
      "source": [
        "### **- 목록**\n",
        "> 입력\n",
        "\n",
        "\\* 사과  \n",
        "&nbsp;&nbsp;&nbsp;&nbsp;\\+ 딸기(tab)  \n",
        "1.참외\n",
        "\n",
        "> 출력\n",
        "\n",
        "* 사과  \n",
        "  + 딸기\n",
        "1. 참외"
      ],
      "metadata": {
        "id": "7EEdtxTsAFVB"
      }
    },
    {
      "cell_type": "markdown",
      "source": [
        "##**- Code Block**\n",
        "> 입력\n",
        "\n",
        "\\```python  \n",
        "import something  \n",
        "a = 10  \n",
        "print(a)  \n",
        "if a>10:  \n",
        "&nbsp;&nbsp;&nbsp;&nbsp;print(a)  \n",
        "\\```\n",
        "\n",
        "> 출력\n",
        "\n",
        "```python\n",
        "import something\n",
        "a = 10\n",
        "print(a)\n",
        "if a>10:\n",
        "  print(a)\n",
        "```\n"
      ],
      "metadata": {
        "id": "mZA57f7KBe6l"
      }
    },
    {
      "cell_type": "markdown",
      "source": [
        "###**- 하이퍼링크**\n",
        "> 입력\n",
        "\n",
        "\\[바로가기]\\(링크)  \n",
        "<링크>\n",
        "> 출력\n",
        "\n",
        "[바로가기](https://klas.kw.ac.kr/std/cmn/frame/Frame.do?storeId=2019732076&storeIdChecked=checked)  \n",
        "<https://klas.kw.ac.kr/std/cmn/frame/Frame.do?storeId=2019732076&storeIdChecked=checked>\n"
      ],
      "metadata": {
        "id": "AR8kDbHYFLTN"
      }
    },
    {
      "cell_type": "markdown",
      "source": [
        "###**- 수평선**\n",
        "> 입력\n",
        "\n",
        "\\***  \n",
        "수평선\n",
        "\n",
        "\\---\n",
        "(3개 이상)\n",
        "\n",
        ">출력\n",
        "\n",
        "***  \n",
        "수평선\n",
        "\n",
        "---"
      ],
      "metadata": {
        "id": "UM9UQ5hPHANR"
      }
    },
    {
      "cell_type": "markdown",
      "source": [
        "###**- 표**\n",
        "> 입력\n",
        "\n",
        "\\| 1열 | 2열 | 3열 |  \n",
        "\\| :------ | ---: | :---: |  \n",
        "\\| 왼쪽 | 오른쪽 | 가운데 |  \n",
        "\\| 테스트 | 테스트 | 테스트 |\n",
        "\n",
        "> 출력\n",
        "\n",
        "| 1열 | 2열 | 3열 |  \n",
        "| :------ | ---: | :---: |  \n",
        "| 왼쪽 | 오른쪽 | 가운데 |\n",
        "| 테스트 | 테스트 | 테스트 |\n",
        "\n",
        "* Mark Down에서 만들기 까다로움. 따라서 Mark Down 표를 자동으로 만들어주는 기능을 가진 웹사이트 이용.  \n",
        "[MarkDown Table Generator](https://www.tablesgenerator.com/markdown_tables)\n"
      ],
      "metadata": {
        "id": "XrtKZwV2HjeK"
      }
    },
    {
      "cell_type": "markdown",
      "source": [
        "###**- 그림**\n",
        "> 입력\n",
        "\n",
        "\\!\\[이미지설명문구]\\(링크)\n",
        "\n",
        "> 출력\n",
        "\n",
        "![광운대마크](https://t1.daumcdn.net/cfile/tistory/99F988335ACF5A953E?original)"
      ],
      "metadata": {
        "id": "YEI561nJnSrC"
      }
    },
    {
      "cell_type": "markdown",
      "source": [
        "###**- 체크박스**\n",
        "> 입력  \n",
        "\n",
        "\\- [ &nbsp; ] 빈 체크박스  \n",
        "\\- [x] 체크된 체크박스\n",
        "\n",
        "> 출력\n",
        "\n",
        "- [ ] 빈 체크박스\n",
        "- [x] 체크된 체크박스\n"
      ],
      "metadata": {
        "id": "M35MTRQtoSYl"
      }
    },
    {
      "cell_type": "markdown",
      "source": [
        "###**- 수식**\n",
        "+ Latex 문법을 이용하면 한글이나 word 수식 편집기보다 편리하게 이용 가능. (자세한 내용은 아래 링크 참고)  \n",
        "[Latex 수식](https://velog.io/@d2h10s/LaTex-Markdown-%EC%88%98%EC%8B%9D-%EC%9E%91%EC%84%B1%EB%B2%95)\n",
        "> 입력\n",
        "\n",
        "문장내 \\$\\frac{1+s}{s(+2)}$ 삽입  \n",
        "\n",
        "`$$\\frac{1+s}{s(s+2)}$$`\n",
        "\n",
        "> 출력\n",
        "문장내$\\frac{1+s}{s(+2)}$삽입  \n",
        "$$\\frac{1+s}{s(s+2)}$$"
      ],
      "metadata": {
        "id": "tMWNmaO3sQbA"
      }
    },
    {
      "cell_type": "markdown",
      "source": [
        "##**- 참고**\n",
        "이 외의 자세한 내용은 링크 참조  \n",
        "[Markdown](https://gist.github.com/ihoneymon/652be052a0727ad59601)"
      ],
      "metadata": {
        "id": "-IzVhAVgvEyd"
      }
    }
  ]
}