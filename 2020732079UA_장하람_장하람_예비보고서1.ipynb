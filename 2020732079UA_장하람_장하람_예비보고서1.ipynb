{
  "nbformat": 4,
  "nbformat_minor": 0,
  "metadata": {
    "colab": {
      "provenance": [],
      "toc_visible": true
    },
    "kernelspec": {
      "name": "python3",
      "display_name": "Python 3"
    },
    "language_info": {
      "name": "python"
    },
    "accelerator": "GPU",
    "gpuClass": "standard"
  },
  "cells": [
    {
      "cell_type": "markdown",
      "source": [
        "# Colab 첫시작 GUIDE\n",
        "\n",
        "1. <http://colab.reasearch.google.com>을 들어간다\n",
        "2. 드라이브 마운트를 누른다\n",
        "3. 런타임 유형 변경 => GPU\n",
        "4. 구글 드라이브에서도 바로 들어 갈 수 있다.\n",
        "  구글 드라이브->드라이브 더보기 -> 구글 코랩\n"
      ],
      "metadata": {
        "id": "EEH6tXz5i5Oh"
      }
    },
    {
      "cell_type": "markdown",
      "source": [
        "# 코랩 단축기와 그외 tip\n",
        "\n",
        "\n",
        "#코랩 TIP\n",
        "# H1\n",
        "## H2\n",
        "### H3\n",
        "#### H4 #많을수록 좀더 작아짐 (글씨 크기가)\n",
        "강조\n",
        "**진하게**\n",
        "__밑줄__, <u>밑줄</u>\n",
        "~~취소~~\n",
        "_이탤릭_\n",
        "\n",
        "블럭(인용) 들여쓰기\n",
        "> 블럭 1단계\n",
        ">> 블럭 2단계\n",
        "\n",
        "  출럭 결과\n",
        " 블럭 1단계\n",
        "    블럭 2단계\n",
        "\n",
        "딸기 (tab) 빈 동그라미\n",
        "\n",
        "```python\n",
        "```\n",
        "출럭 결과 파이썬 code block 처럼 디자인 처리되는 것을 확인 할 수 있다.\n",
        "\n",
        "하이퍼 링크\n",
        "\n",
        "[바로가기](http://google.com)\n",
        "<http://google.com>\n",
        "***\n",
        "\n",
        "수평선\n",
        "---\n",
        "(3개 이상)\n",
        "\n",
        "표\n",
        "mark down 표 구글에 검색 하기\n",
        "\n",
        "\n",
        "줄바꿈 (space 2개)\n",
        "\n",
        "수식\n",
        "$$\n",
        "latex 수식 레이텍 수식     을 통해 확인할 수 있다.\n",
        "$$\n",
        "\n",
        "#코랩 단축기\n",
        "선택된 셀을 실행 : Ctrl + Enter\n",
        "선택된 셀을 실행 후 다음 셀로 포커스 이동 : Shift + Enter\n",
        "실행 후 다음줄로 이동 : Alt + Enter\n",
        "선택모드에서 화살표 방향키 : 셀 포커스를 위 아래로 움직일 수 있음\n",
        "\n",
        "엔터키 : 편집모드(Vi 편집기와 유사)\n",
        "ESC : 선택모드(Vi 편집기와 유사)\n",
        "마크다운으로 전환 : Ctrl + M M\n",
        "코드로 전환 : Ctrl + M Y\n",
        "저장 : Ctrl + S\n",
        "\n",
        "코드셀에 줄번호 부여 : Ctrl + M L\n",
        "바로 윗줄에 셀 생성 : Ctrl + M A\n",
        "바로 아랫줄에 셀 생성 : Ctrl + M B\n",
        "셀 삭제 : Ctrl + M D\n",
        "\n",
        "셀 병합 : (shift를 누른 상태에서 병합을 원하는 셀들을 한번에 다중 선택 후), Shift + M\n",
        "셀 분할 : (분기를 원하는 부분에 커서를 지정 후), Ctrl + Shift + -\n",
        "\n",
        "코드가 오래 실행되어 멈추고 싶은경우 : Ctrl+ M + I\n",
        "위 코드로도 멈추지 않고 작업을 완전종료하고 싶은 경우 : Ctrl+M+.\n",
        "을 통해 볼 수 있다.\n",
        "\n"
      ],
      "metadata": {
        "id": "qEnfK5qrgxTA"
      }
    },
    {
      "cell_type": "code",
      "source": [],
      "metadata": {
        "id": "yND94_jiihjB"
      },
      "execution_count": null,
      "outputs": []
    }
  ]
}