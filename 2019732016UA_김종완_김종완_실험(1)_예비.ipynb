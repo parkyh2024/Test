{
  "nbformat": 4,
  "nbformat_minor": 0,
  "metadata": {
    "colab": {
      "provenance": []
    },
    "kernelspec": {
      "name": "python3",
      "display_name": "Python 3"
    },
    "language_info": {
      "name": "python"
    }
  },
  "cells": [
    {
      "cell_type": "markdown",
      "source": [
        "#**머신러닝**\n",
        "###머신러닝은 크게 세 가지 카테고리로 나뉜다.\n",
        "\n",
        "1. **지도 학습(Supervised Learning)**  \n",
        "간단히 말해 <u>정답을 알고 있는 문제를 풀게 만드는 방식이다.</u> \n",
        "정답을 알고 있는 사람이 가르쳐 학습하는 방식이며, 가르쳐 주는 사람을 Supervisor라고 한다. \n",
        "\n",
        "2. **비지도 학습(Unsupervised Learning)**  \n",
        "지도학습의 반대이다. 정답과 가르쳐주는 사람 모두 없다. 많은 양의 데이터를 알려준 뒤, 패턴이나 원리 등 <u>관련된 규칙을 파악하도록 학습을 진행하는 방식이다.</u>\n",
        "\n",
        "3. **강화 학습**  \n",
        "지도학습과 비슷한 방식이다. 일단 무언가를 하도록 시킨 뒤, 맞으면 보상을 주고 틀리면 패널티를 주는 방향으로 <u>피드백을 통해 행위를 강화하는 학습이다.</u> \n",
        "\n",
        "###다음은 **Notebook 단축키**에 대해 알아보도록 하자.자주 쓰이는 단축키는 다음과 같다.  \n",
        "* **실행 후 다음 셀로 이동 : Shift + Enter**  \n",
        "* **저장 : Ctrl + S**  \n",
        "* **마크다운으로 전환 : Ctrl + M M**  \n",
        "* **코드로 전환 : Ctrl + M Y**  \n",
        "* **코드셀에 줄번호 부여 : Ctrl + M L**  \n",
        "* **바로 아랫줄에 셀 생성 : Ctrl + M B**  \n",
        "\n",
        "###다음은 **하이퍼링크 및 수평선**을 넣는 방법에 대해 알아보도록 하자.\n",
        "* 하이퍼링크를 넣는 방법은 다음과 같다. 링크를 넣고자 하는 글자 앞뒤에 대괄호를 사용하고, 대괄호 바로 뒤에 소괄호를 사용하여 소괄호 사이에 링크를 넣어주면 된다.  \n",
        "* \"-\"기호를 3개 이상 사용하면 수평선을 만들 수 있다. \n",
        "\n",
        "---\n",
        "###**참조링크**  \n",
        "[Machine Learning1](https://kwcommons.kw.ac.kr/contents4/KW10000001/6215cf047374b/contents/media_files/mobile/ssmovie.mp4)  \n",
        "[Machine Learning2](https://kwcommons.kw.ac.kr/contents4/KW10000001/6215cf3461d98/contents/media_files/mobile/ssmovie.mp4)\n",
        "\n",
        "\n"
      ],
      "metadata": {
        "id": "F8IXgYUZ8i0O"
      }
    }
  ]
}