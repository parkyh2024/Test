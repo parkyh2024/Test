{
  "nbformat": 4,
  "nbformat_minor": 0,
  "metadata": {
    "colab": {
      "provenance": []
    },
    "kernelspec": {
      "name": "python3",
      "display_name": "Python 3"
    },
    "language_info": {
      "name": "python"
    },
    "gpuClass": "standard"
  },
  "cells": [
    {
      "cell_type": "markdown",
      "source": [
        "#**<머신러닝 개요 및 Google Colab, Jupyter Notebook 기초 실습>**\n",
        "\n",
        "---\n",
        "##**1. 머신러닝이란?**\n",
        "머신러닝이란 알고리즘을 이용하여 데이터를 분석하고, 분석 결과를 스스로 학습한 후, 이를 기반으로 어떠한 판단이나 예측을 하는 것을 의미한다. 이러한 머신러닝에서는 양질의 데이터가 매우 중요한 역할을 하며, 양질의 데이터를 많이 보유할수록 보다 높은 성능을 이끌어낼 수 있게 되고 양질의 데이터를 얻기 위해 데이터 분석 과정 중에 데이터 정제 과정을 거친다.  \n",
        "머신러닝은 데이터에 사람이 생각하는 **정답(label)**을 매겨서 계산하고, 사람의 생각과 차이가 나는 **오류를 줄여가는 방법으로 수정**하고, 이러한 과정을 **반복**하는 **학습(training)**이라는 과정을 거쳐게 되는데, 이렇게 학습 결과로 얻어진 지능을 실제 응용에 적용하는 기술을 바로 **머신러닝(Machine Learning)**이라고 한다.\n",
        "\n",
        "---\n",
        "##**2. 머신러닝의 학습 방법**\n",
        "머신러닝의 학습 방법은 크게 3가지 학습 방법으로 구분할 수 있는데, **지도 학습(Supervised Learning), 비지도 학습(Unsupervised Learnging), 강화 학습(Reinforcement Learning)**이다. 밑에 그림은 각 학습의 과정을 간략하게 설명해 준다. 이 3가지 학습 방법 중 지도학습(Supervised Learning)에 대해 알아보도록 하자.\n",
        "<center><img src=\"https://modulabs.co.kr/wp-content/uploads/2022/09/%EB%A8%B8%EC%8B%A0%EB%9F%AC%EB%8B%9D%ED%95%99%EC%8A%B5%EB%B0%A9%EB%B2%95-825x1024.png\" width=\"50%\" height=\"50%\"/></center>\n",
        "\n",
        "\n",
        "###**2.1. 지도 학습(Supervised Learning)**\n",
        "지도 학습이란 입력값과 함께 결과값(정답 레이블)을 같이 주고 학습을 시키는 방법이다. 정답을 기반으로 오류를 줄이는 반복 학습을 통해 오류를 줄여가면서 점차 정답에 가까워지는 방법이라고 할 수 있다. 이러한 지도 학습 알고리즘에는 크게 두 가지 유형이 있는데, **분류(Classification), 회귀(Regression)**이다.  \n",
        ">**2.1.1. 분류**  \n",
        "분류는 레이블이 달린 학습 데이터로 학습한 후에 새로 입력된 데이터가 학습했던 어느 그룹에 속하는 지를 찾아내는 방법이다.\n",
        "\n",
        ">**2.1.2. 회귀**  \n",
        "회귀는 분류와 달리 연속값 범위에서 출력을 예측하도록 알고리즘을 훈련하는 방법이다.\n",
        "\n",
        ">**2.1.3. 분류와 회귀의 비교**  \n",
        "><center><img src=\"https://thebook.io/img/080263/066.jpg\" width=\"50%\" height=\"50%\"/></center>\n",
        "\n",
        ">|구분|분류|회귀|\n",
        "|:---:|:---:|:---:|\n",
        "|데이터 유형|이산형 데이터|연속형 데이터|\n",
        "|결과|학습데이터의 레이블 중 하나를 예측|연속된 값을 예측|\n",
        "|예제|학습 데이터를 A·B·C 그룹 중 하나로 매핑 <br>예) 스팸메일 필터|결과 값이 어떤 값이든 나올 수 있음 <br>예) 주가 분석 예측|  \n",
        "\n",
        "---\n",
        "##**출처**\n",
        "<https://modulabs.co.kr/blog/machine-learning/>  \n",
        "<https://thebook.io/080263/ch03/01/>  \n",
        "<http://www.tcpschool.com/deep2018/deep2018_machine_supervised>\n",
        "\n",
        "\n",
        "\n",
        "\n"
      ],
      "metadata": {
        "id": "_TlV019y5Ltq"
      }
    }
  ]
}